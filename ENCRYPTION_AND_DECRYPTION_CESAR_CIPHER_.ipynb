{
  "nbformat": 4,
  "nbformat_minor": 0,
  "metadata": {
    "colab": {
      "provenance": [],
      "mount_file_id": "10NNOSV1VBM5OgOBhYIw9qI0BGQtdAeUF",
      "authorship_tag": "ABX9TyN6JiOLVwn2CdE/+SLuWIz+",
      "include_colab_link": true
    },
    "kernelspec": {
      "name": "python3",
      "display_name": "Python 3"
    },
    "language_info": {
      "name": "python"
    }
  },
  "cells": [
    {
      "cell_type": "markdown",
      "metadata": {
        "id": "view-in-github",
        "colab_type": "text"
      },
      "source": [
        "<a href=\"https://colab.research.google.com/github/HaiderAli-Awan/Encryption-and-Decryption-Cesar-Cipher/blob/main/ENCRYPTION_AND_DECRYPTION_CESAR_CIPHER_.ipynb\" target=\"_parent\"><img src=\"https://colab.research.google.com/assets/colab-badge.svg\" alt=\"Open In Colab\"/></a>"
      ]
    },
    {
      "cell_type": "code",
      "source": [
        "def encrypt(text, shift):\n",
        "    result = \"\"\n",
        "\n",
        "    for char in text:\n",
        "        if char.isalpha():\n",
        "            # Shift character\n",
        "            start = ord('A') if char.isupper() else ord('a')\n",
        "            result += chr((ord(char) - start + shift) % 26 + start)\n",
        "        else:\n",
        "            result += char  # Non-alphabetic characters are not changed\n",
        "\n",
        "    return result\n",
        "\n",
        "def decrypt(text, shift):\n",
        "    return encrypt(text, -shift)  # Decrypting is the same as encrypting with a negative shift\n",
        "\n",
        "def brute_force_decrypt(text):\n",
        "    for shift in range(1, 26):\n",
        "        decrypted_text = decrypt(text, shift)\n",
        "        print(f\"Shift {shift}: {decrypted_text}\")\n",
        "\n",
        "# Example usage\n",
        "if __name__ == \"__main__\":\n",
        "    original_text = input(\"Enter the text to encrypt: \")\n",
        "    shift_value = int(input(\"Enter the shift value (1-25): \"))\n",
        "\n",
        "    encrypted_text = encrypt(original_text, shift_value)\n",
        "    print(f\"Encrypted: {encrypted_text}\")\n",
        "\n",
        "    decrypted_text = decrypt(encrypted_text, shift_value)\n",
        "    print(f\"Decrypted: {decrypted_text}\")\n",
        "\n",
        "    print(\"\\nBrute-force Decryption:\")\n",
        "    brute_force_decrypt(encrypted_text)\n"
      ],
      "metadata": {
        "colab": {
          "base_uri": "https://localhost:8080/"
        },
        "id": "ZaYz_NeaTz0R",
        "outputId": "7acde099-304a-4268-b083-090e7f711818"
      },
      "execution_count": 3,
      "outputs": [
        {
          "output_type": "stream",
          "name": "stdout",
          "text": [
            "Enter the text to encrypt: HAIDER ALI AWAN\n",
            "Enter the shift value (1-25): 5\n",
            "Encrypted: MFNIJW FQN FBFS\n",
            "Decrypted: HAIDER ALI AWAN\n",
            "\n",
            "Brute-force Decryption:\n",
            "Shift 1: LEMHIV EPM EAER\n",
            "Shift 2: KDLGHU DOL DZDQ\n",
            "Shift 3: JCKFGT CNK CYCP\n",
            "Shift 4: IBJEFS BMJ BXBO\n",
            "Shift 5: HAIDER ALI AWAN\n",
            "Shift 6: GZHCDQ ZKH ZVZM\n",
            "Shift 7: FYGBCP YJG YUYL\n",
            "Shift 8: EXFABO XIF XTXK\n",
            "Shift 9: DWEZAN WHE WSWJ\n",
            "Shift 10: CVDYZM VGD VRVI\n",
            "Shift 11: BUCXYL UFC UQUH\n",
            "Shift 12: ATBWXK TEB TPTG\n",
            "Shift 13: ZSAVWJ SDA SOSF\n",
            "Shift 14: YRZUVI RCZ RNRE\n",
            "Shift 15: XQYTUH QBY QMQD\n",
            "Shift 16: WPXSTG PAX PLPC\n",
            "Shift 17: VOWRSF OZW OKOB\n",
            "Shift 18: UNVQRE NYV NJNA\n",
            "Shift 19: TMUPQD MXU MIMZ\n",
            "Shift 20: SLTOPC LWT LHLY\n",
            "Shift 21: RKSNOB KVS KGKX\n",
            "Shift 22: QJRMNA JUR JFJW\n",
            "Shift 23: PIQLMZ ITQ IEIV\n",
            "Shift 24: OHPKLY HSP HDHU\n",
            "Shift 25: NGOJKX GRO GCGT\n"
          ]
        }
      ]
    }
  ]
}